{
  "nbformat": 4,
  "nbformat_minor": 0,
  "metadata": {
    "colab": {
      "name": "DNN_MNIST.ipynb",
      "provenance": []
    },
    "kernelspec": {
      "name": "python3",
      "display_name": "Python 3"
    },
    "language_info": {
      "name": "python"
    }
  },
  "cells": [
    {
      "cell_type": "code",
      "execution_count": 1,
      "metadata": {
        "colab": {
          "base_uri": "https://localhost:8080/"
        },
        "id": "dWcuiePN4DP5",
        "outputId": "265da9df-1cab-41bf-98fa-936a709c46ea"
      },
      "outputs": [
        {
          "output_type": "stream",
          "name": "stdout",
          "text": [
            "Downloading data from https://storage.googleapis.com/tensorflow/tf-keras-datasets/mnist.npz\n",
            "11493376/11490434 [==============================] - 0s 0us/step\n",
            "11501568/11490434 [==============================] - 0s 0us/step\n",
            "Model: \"sequential\"\n",
            "_________________________________________________________________\n",
            " Layer (type)                Output Shape              Param #   \n",
            "=================================================================\n",
            " dense (Dense)               (None, 50)                39250     \n",
            "                                                                 \n",
            " dense_1 (Dense)             (None, 100)               5100      \n",
            "                                                                 \n",
            " dense_2 (Dense)             (None, 70)                7070      \n",
            "                                                                 \n",
            " dense_3 (Dense)             (None, 10)                710       \n",
            "                                                                 \n",
            "=================================================================\n",
            "Total params: 52,130\n",
            "Trainable params: 52,130\n",
            "Non-trainable params: 0\n",
            "_________________________________________________________________\n"
          ]
        }
      ],
      "source": [
        "import tensorflow as tf\n",
        "from tensorflow import keras\n",
        "import matplotlib.pyplot as plt\n",
        "mnistDB=keras.datasets.mnist\n",
        "(x_train,y_train),(x_test,y_test)=mnistDB.load_data()\n",
        "x_train=x_train.reshape((60000,28*28))\n",
        "x_test=x_test.reshape((10000,28*28))\n",
        "x_train=x_train.astype('float32')/255\n",
        "x_test=x_test.astype('float32')/255\n",
        "ML=keras.models.Sequential()\n",
        "ML.add(keras.layers.Dense(units=50,activation='relu',input_shape=x_train.shape[1:]))\n",
        "ML.add(keras.layers.Dense(units=100,activation='relu'))\n",
        "ML.add(keras.layers.Dense(units=70,activation='relu'))\n",
        "ML.add(keras.layers.Dense(units=10,activation='softmax'))\n",
        "ML.summary()\n"
      ]
    },
    {
      "cell_type": "code",
      "source": [
        "ML.compile(loss='sparse_categorical_crossentropy',optimizer='adam',metrics=['accuracy'])\n",
        "ML.fit(x_train,y_train,epochs=1,batch_size=16)\n",
        "test_loss,test_acc=ML.evaluate(x_test,y_test)\n"
      ],
      "metadata": {
        "colab": {
          "base_uri": "https://localhost:8080/"
        },
        "id": "32Xf1rXX4Zhb",
        "outputId": "2e226b2b-7127-4844-8e36-9a363a1e58a3"
      },
      "execution_count": 3,
      "outputs": [
        {
          "output_type": "stream",
          "name": "stdout",
          "text": [
            "3750/3750 [==============================] - 8s 2ms/step - loss: 0.2507 - accuracy: 0.9247\n",
            "313/313 [==============================] - 1s 1ms/step - loss: 0.1344 - accuracy: 0.9584\n"
          ]
        }
      ]
    },
    {
      "cell_type": "code",
      "source": [
        "\n",
        "from keras.preprocessing.image import load_img\n",
        "from keras.preprocessing.image import img_to_array\n",
        "from keras.models import load_model\n",
        "img=load_img('/content/7.png',grayscale=True,target_size=(28,28))\n",
        "plt.imshow(img)\n",
        "img=img_to_array(img)"
      ],
      "metadata": {
        "colab": {
          "base_uri": "https://localhost:8080/",
          "height": 320
        },
        "id": "hpOC1vaN5Bhi",
        "outputId": "3451d779-67f2-48f9-fb23-d568628f41e5"
      },
      "execution_count": 9,
      "outputs": [
        {
          "output_type": "stream",
          "name": "stderr",
          "text": [
            "/usr/local/lib/python3.7/dist-packages/keras_preprocessing/image/utils.py:107: UserWarning: grayscale is deprecated. Please use color_mode = \"grayscale\"\n",
            "  warnings.warn('grayscale is deprecated. Please use '\n"
          ]
        },
        {
          "output_type": "display_data",
          "data": {
            "image/png": "[encoded data removed]",
            "text/plain": [
              "<Figure size 432x288 with 1 Axes>"
            ]
          },
          "metadata": {
            "needs_background": "light"
          }
        }
      ]
    },
    {
      "cell_type": "code",
      "source": [
        "img=img.reshape(1,28*28)\n",
        "img=img.astype('float32')/255.0\n",
        "digit=ML.predict(img)\n",
        "print('digit is',digit[0])"
      ],
      "metadata": {
        "colab": {
          "base_uri": "https://localhost:8080/"
        },
        "id": "nst9opiI5xLo",
        "outputId": "c3f82045-2852-4bd0-feb8-b7187d1f91cf"
      },
      "execution_count": 7,
      "outputs": [
        {
          "output_type": "stream",
          "name": "stdout",
          "text": [
            "digit is [1.1607984e-08 9.3675389e-08 2.7531815e-01 7.2352064e-01 1.4402197e-10\n",
            " 9.5081358e-04 6.9550771e-07 5.7886274e-07 2.0903123e-04 2.5044005e-09]\n"
          ]
        }
      ]
    }
  ]
}